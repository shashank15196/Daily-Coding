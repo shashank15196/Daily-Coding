{
 "cells": [
  {
   "cell_type": "code",
   "execution_count": 10,
   "metadata": {},
   "outputs": [
    {
     "name": "stdout",
     "output_type": "stream",
     "text": [
      "enter the numer 51\n",
      "enter the numer 4\n",
      "enter the numer 3\n",
      "False\n"
     ]
    }
   ],
   "source": [
    "# 1. You are required to check if a given set of numbers is a valid pythagorean triplet.\n",
    "# 2. Take as input three numbers a, b and c.\n",
    "# 3. Print true if they can form a pythagorean triplet and false otherwise.\n",
    "\n",
    "n=int(input(\"enter the numer \"))\n",
    "\n",
    "m=int(input(\"enter the numer \"))\n",
    "z=int(input(\"enter the numer \"))\n",
    "\n",
    "\n",
    "max=n\n",
    "\n",
    "if m>max:\n",
    "    max=m\n",
    "    \n",
    "if z>max:\n",
    "    max=z\n",
    "    \n",
    "if max==n:\n",
    "    flag = (n*n) == ((m*m)+(z*z))\n",
    "    \n",
    "    print(flag)\n",
    "    \n",
    "elif max==m:\n",
    "    flag= (m*m )== ((n*n)+(z*z))\n",
    "    print(flag)\n",
    "    \n",
    "else:\n",
    "    flag= (z*z) ==((m*m)+(n*n))\n",
    "    print(flag)\n",
    "    "
   ]
  },
  {
   "cell_type": "code",
   "execution_count": 7,
   "metadata": {},
   "outputs": [
    {
     "name": "stdout",
     "output_type": "stream",
     "text": [
      "enter the number 21453\n",
      "23154\n"
     ]
    }
   ],
   "source": [
    "# 1. You are given a number following certain constraints.\n",
    "# 2. The key constraint is if the number is 5 digits long, it'll contain all the digits from 1 to 5 without missing any and without repeating any. e.g. 23415 is a 5 digit long number containing all digits from 1 to 5 without missing and repeating any digit from 1 to 5.Take a look at few other valid numbers - 624135, 81456273 etc.Here are a few invalid numbers - 139, 7421357 etc.\n",
    "# 3. The inverse of a number is defined as the number created by interchanging the face value and index of digits of number.e.g. for 426135 (reading from right to left, 5 is in place 1, 3 is in place 2, 1 is in place 3, 6 is in place 4, 2 is in place 5 and 4 is in place 6), the inverse will be 416253 (reading from right to left, 3 is in place 1, 5 is in place 2,2 is in place 3, 6 is in place 4, 1 is in place 5 and 4 is in place 6) More examples - inverse of 2134 is 1243 and inverse of 24153 is 24153    \n",
    "# 4. Take as input number \"n\", assume that the number will follow constraints.\n",
    "# 5. Print it's inverse.\n",
    "\n",
    "\n",
    "import math\n",
    "\n",
    "n=int(input(\"enter the number \"))\n",
    "\n",
    "\n",
    "inv=0\n",
    "op=1\n",
    "\n",
    "while( n!=0):\n",
    "    od=n%10\n",
    "    id=op\n",
    "    ip=od\n",
    "    \n",
    "    \n",
    "    inv=inv+id*(pow(10,ip-1))\n",
    "    \n",
    "    n=n//10\n",
    "    op=op+1\n",
    "\n",
    "    \n",
    "     \n",
    "\n",
    "print(inv)\n",
    "\n"
   ]
  },
  {
   "cell_type": "code",
   "execution_count": null,
   "metadata": {},
   "outputs": [],
   "source": []
  },
  {
   "cell_type": "code",
   "execution_count": 5,
   "metadata": {},
   "outputs": [
    {
     "name": "stdout",
     "output_type": "stream",
     "text": [
      "enter the number 30\n",
      "4\n",
      "9\n",
      "16\n",
      "25\n"
     ]
    }
   ],
   "source": [
    "# 1. You are given n number of bulbs. They are all switched off. A weird fluctuation in voltage hits the circuit n times. In the 1st fluctuation all bulbs are toggled, in the 2nd fluctuation every 2nd bulb is toggled, in the 3rd fluctuation every 3rd bulb is toggled and so on. You've to find which bulbs will be switched on after n fluctuations.\n",
    "# 2. Take as input a number n, representing the number of bulbs.\n",
    "# 3. Print all the bulbs that will be on after the nth fluctuation in voltage.\n",
    "\n",
    "\n",
    "n=int(input(\"enter the number \"))\n",
    "\n",
    "i=2\n",
    "while (i*i<=n):\n",
    "    print(i*i)\n",
    "    i=i+1\n",
    "\n",
    "    \n",
    "\n",
    "    \n",
    "    \n",
    "\n",
    "    "
   ]
  },
  {
   "cell_type": "code",
   "execution_count": null,
   "metadata": {},
   "outputs": [],
   "source": []
  }
 ],
 "metadata": {
  "kernelspec": {
   "display_name": "Python 3",
   "language": "python",
   "name": "python3"
  },
  "language_info": {
   "codemirror_mode": {
    "name": "ipython",
    "version": 3
   },
   "file_extension": ".py",
   "mimetype": "text/x-python",
   "name": "python",
   "nbconvert_exporter": "python",
   "pygments_lexer": "ipython3",
   "version": "3.7.4"
  }
 },
 "nbformat": 4,
 "nbformat_minor": 2
}
