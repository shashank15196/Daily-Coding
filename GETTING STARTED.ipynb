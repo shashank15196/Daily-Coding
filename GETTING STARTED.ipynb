{
 "cells": [
  {
   "cell_type": "code",
   "execution_count": 17,
   "metadata": {},
   "outputs": [
    {
     "name": "stdout",
     "output_type": "stream",
     "text": [
      "6\n"
     ]
    }
   ],
   "source": [
    "# 1. You've to count the number of digits in a number.\n",
    "# 2. Take as input \"n\", the number for which the digits has to be counted.\n",
    "# 3. Print the digits in that number.\n",
    "\n",
    "\n",
    "n=123456\n",
    "\n",
    "counter=0\n",
    "while(n>0):\n",
    "    \n",
    "    n=n//10\n",
    "    counter=counter+1\n",
    "    \n",
    "print(counter)"
   ]
  },
  {
   "cell_type": "code",
   "execution_count": 3,
   "metadata": {},
   "outputs": [
    {
     "name": "stdout",
     "output_type": "stream",
     "text": [
      "enter the number: 89\n",
      "good\n"
     ]
    }
   ],
   "source": [
    "# 1. You are given as input marks of a student.\n",
    "# 2. Display an appropriate message based on the following rules:\n",
    "#   \t  2.1 for marks above 90, print excellent.\n",
    "#   \t  2.2 for marks above 80 and less than equal to 90, print good.\n",
    "#   \t  2.3 for marks above 70 and less than equal to 80, print fair.\n",
    "#   \t  2.4 for marks above 60 and less than equal to 70, print meets expectations.\n",
    "#   \t  2.5 for marks less than equal to 60, print below par.\n",
    "\n",
    "\n",
    "marks= int(input(\"enter the number: \"))\n",
    "if (marks > 90):\n",
    "    print(\"excellent\")\n",
    "elif(marks >80 and marks <=90):\n",
    "    print(\"good\")\n",
    "elif (marks >70 and marks<=80):\n",
    "    print(\"fair\")\n",
    "elif (marks >60 and marks <=70):\n",
    "    print(\"meets expectations\")\n",
    "else:\n",
    "    print(\"below par\")\n"
   ]
  },
  {
   "cell_type": "code",
   "execution_count": 1,
   "metadata": {},
   "outputs": [
    {
     "name": "stdout",
     "output_type": "stream",
     "text": [
      "Enter Number: 12345\n"
     ]
    }
   ],
   "source": [
    "\n",
    "# 1. You've to display the digits of a number in reverse.\n",
    "# 2. Take as input \"n\", the number for which digits have to be display in reverse.\n",
    "# 3. Print the digits of the number line-wise, but in reverse order.\n",
    "\n",
    "\n",
    "\n",
    "number = int(input('Enter Number: '))\n",
    "\n",
    "reverse = 0\n",
    "\n",
    "\n",
    "while (number>0):\n",
    "    remainder = number%10\n",
    "    reverse = reverse *10 + remainder\n",
    "    number = number//10\n",
    "\n"
   ]
  },
  {
   "cell_type": "code",
   "execution_count": 7,
   "metadata": {},
   "outputs": [
    {
     "name": "stdout",
     "output_type": "stream",
     "text": [
      "enter the number: 15\n",
      " It is not prime number\n"
     ]
    }
   ],
   "source": [
    "# 1. You've to check whether a given number is prime or not.\n",
    "# 2. Take a number \"t\" as input representing count of input numbers to be tested.\n",
    "# 3. Take a number \"n\" as input \"t\" number of times.\n",
    "# 4. For each input value of n, print \"prime\" if the number is prime and \"not prime\" otherwise.\n",
    "\n",
    "n= int(input(\"enter the number: \"))\n",
    "\n",
    "for i in range(2,n+1):\n",
    "    if (n%i)==0:\n",
    "        print(\" It is not prime number\")\n",
    "        break\n",
    "else:\n",
    "    print(\"It is a prime number\")\n",
    "    \n"
   ]
  },
  {
   "cell_type": "code",
   "execution_count": 9,
   "metadata": {},
   "outputs": [
    {
     "name": "stdout",
     "output_type": "stream",
     "text": [
      "11\n",
      "13\n",
      "17\n",
      "19\n",
      "23\n",
      "29\n",
      "31\n",
      "37\n",
      "41\n",
      "43\n",
      "47\n",
      "53\n",
      "59\n",
      "61\n",
      "67\n",
      "71\n",
      "73\n",
      "79\n",
      "83\n",
      "89\n",
      "97\n"
     ]
    }
   ],
   "source": [
    "# 1. You've to print all prime numbers between a range. \n",
    "# 2. Take as input \"low\", the lower limit of range.\n",
    "# 3. Take as input \"high\", the higher limit of range.\n",
    "# 4. For the range print all the primes numbers between low and high (both included).\n",
    "\n",
    "x = 10\n",
    "y = 100\n",
    "\n",
    "\n",
    "\n",
    "for num in range(x, y + 1):\n",
    "    if num > 1:\n",
    "        for i in range(2, num):\n",
    "              if (num % i) == 0:\n",
    "                break\n",
    "        else:\n",
    "            print(num)\n",
    "            \n",
    "    \n",
    "            "
   ]
  },
  {
   "cell_type": "code",
   "execution_count": 16,
   "metadata": {},
   "outputs": [
    {
     "name": "stdout",
     "output_type": "stream",
     "text": [
      "enter the number 8\n",
      "0\n",
      "1\n",
      "1\n",
      "2\n",
      "3\n",
      "5\n",
      "8\n",
      "13\n",
      "21\n"
     ]
    }
   ],
   "source": [
    "# 1. You've to print first n fibonacci numbers.\n",
    "# 2. Take as input \"n\", the count of fibonacci numbers to print.\n",
    "# 3. Print first n fibonacci numbers.\n",
    "\n",
    "\n",
    "n=int(input(\"enter the number \"))\n",
    "\n",
    "a=0\n",
    "b=1\n",
    "c=1\n",
    "\n",
    "for i in range(0,n+1):\n",
    "    print(a)\n",
    "    a=b\n",
    "    b=c\n",
    "    c=a+b\n",
    "    \n",
    "    #print(a)\n",
    "    "
   ]
  },
  {
   "cell_type": "code",
   "execution_count": 17,
   "metadata": {},
   "outputs": [],
   "source": [
    "# 1. You are given two numbers n and k. You are required to rotate n, k times to the right. If k is positive, rotate to the right i.e. remove rightmost digit and make it leftmost. Do the reverse for negative value of k. Also k can have an absolute value larger than number of digits in n.\n",
    "# 2. Take as input n and k.\n",
    "# 3. Print the rotated number.\n",
    "# 4. Note - Assume that the number of rotations will not cause leading 0's in the result. e.g. such an input will not be given\n",
    "#    n = 12340056\n",
    "#    k = 3\n",
    "#    r = 05612340\n",
    "\n",
    "\n"
   ]
  },
  {
   "cell_type": "code",
   "execution_count": 22,
   "metadata": {},
   "outputs": [
    {
     "name": "stdout",
     "output_type": "stream",
     "text": [
      "enter the number 12\n",
      "enter the enter 20\n",
      "12\n",
      "20\n",
      "8\n",
      "30\n",
      "4\n",
      "60\n"
     ]
    }
   ],
   "source": [
    "# 1. You are required to print the Greatest Common Divisor (GCD) of two numbers.\n",
    "# 2. You are also required to print the Lowest Common Multiple (LCM) of the same numbers.\n",
    "# 3. Take input \"num1\" and \"num2\" as the two numbers.\n",
    "# 4. Print their GCD and LCM.\n",
    "\n",
    "\n",
    "x=int(input(\"enter the number \"))\n",
    "y=int(input(\"enter the enter \"))\n",
    "\n",
    "\n",
    "dvd=x\n",
    "dsr=y\n",
    "\n",
    "while(dvd % dsr !=0):\n",
    "    \n",
    "    rem=dvd%dsr\n",
    "    dvd=dsr\n",
    "    dsr=rem\n",
    "    \n",
    "    print(dsr)\n",
    "    print((x*y) /dsr)"
   ]
  },
  {
   "cell_type": "code",
   "execution_count": 25,
   "metadata": {},
   "outputs": [
    {
     "name": "stdout",
     "output_type": "stream",
     "text": [
      "enter the number 315\n",
      "3\n",
      "3\n",
      "5\n",
      "7\n"
     ]
    }
   ],
   "source": [
    "# 1. You are required to display the prime factorization of a number.\n",
    "#     2. Take as input a number n.\n",
    "#     3. Print all its prime factors from smallest to largest.\n",
    "\n",
    "\n",
    "\n",
    "n = int(input(\"enter the number \"))\n",
    "    \n",
    "for i in range(2,n+1):\n",
    "    while(n % i == 0):\n",
    "        print(i);\n",
    "        n = n / i "
   ]
  },
  {
   "cell_type": "code",
   "execution_count": null,
   "metadata": {},
   "outputs": [],
   "source": []
  }
 ],
 "metadata": {
  "kernelspec": {
   "display_name": "Python 3",
   "language": "python",
   "name": "python3"
  },
  "language_info": {
   "codemirror_mode": {
    "name": "ipython",
    "version": 3
   },
   "file_extension": ".py",
   "mimetype": "text/x-python",
   "name": "python",
   "nbconvert_exporter": "python",
   "pygments_lexer": "ipython3",
   "version": "3.7.4"
  }
 },
 "nbformat": 4,
 "nbformat_minor": 2
}
