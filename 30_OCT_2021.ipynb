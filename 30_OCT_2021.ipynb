{
 "cells": [
  {
   "cell_type": "code",
   "execution_count": 1,
   "metadata": {},
   "outputs": [
    {
     "name": "stdout",
     "output_type": "stream",
     "text": [
      "* * * * * \n",
      "* * * * \n",
      "* * * \n",
      "* * \n",
      "* \n"
     ]
    }
   ],
   "source": [
    "# 1. You are given a number n.\n",
    "# 2. You've to create a pattern of * and separated by tab as shown in output format.\n",
    "\n",
    "\n",
    "for i in range(1,6):\n",
    "    for j in range(1,6-i+1):\n",
    "        print(\"*\",end=\" \")\n",
    "        \n",
    "    print()\n",
    "        \n",
    "        \n",
    "        "
   ]
  },
  {
   "cell_type": "code",
   "execution_count": 6,
   "metadata": {},
   "outputs": [
    {
     "name": "stdout",
     "output_type": "stream",
     "text": [
      "        * \n",
      "      * * \n",
      "    * * * \n",
      "  * * * * \n",
      "* * * * * \n"
     ]
    }
   ],
   "source": [
    "n=5\n",
    "\n",
    "space=n-1\n",
    "star=1\n",
    "\n",
    "for i in range(0,n):\n",
    "    for  j in range(0,space):\n",
    "        print(\" \",end=\" \")\n",
    "        \n",
    "    for j in range(0,star):\n",
    "        print(\"*\",end=\" \")\n",
    "        \n",
    "        \n",
    "    space=space-1\n",
    "    star=star+1 \n",
    "    \n",
    "    \n",
    "    print()\n",
    "   \n",
    "        \n",
    "    "
   ]
  },
  {
   "cell_type": "code",
   "execution_count": 13,
   "metadata": {},
   "outputs": [
    {
     "name": "stdout",
     "output_type": "stream",
     "text": [
      "* * * * * \n",
      "  * * * * \n",
      "    * * * \n",
      "      * * \n",
      "        * \n",
      "          \n"
     ]
    }
   ],
   "source": [
    "# 1. You are given a number n.\n",
    "# 2. You've to create a pattern of * and separated by tab as shown in output format.\n",
    "\n",
    "n=5\n",
    "\n",
    "star=5\n",
    "space=0\n",
    "\n",
    "\n",
    "for i in range(0,n+1):\n",
    "    for j in range(0,i):\n",
    "        print(\" \",end=\" \")\n",
    "        \n",
    "    for j in range(0,n-i):\n",
    "        print(\"*\",end=\" \")\n",
    "    space=space+1    \n",
    "    star=star-1\n",
    "    \n",
    "    \n",
    "    print()"
   ]
  },
  {
   "cell_type": "code",
   "execution_count": null,
   "metadata": {},
   "outputs": [],
   "source": [
    "# 1. You are given a number n.\n",
    "# 2. You've to create a pattern of * and separated by tab as shown in output format.\n",
    "\n",
    "\n",
    "\n",
    "\n"
   ]
  }
 ],
 "metadata": {
  "kernelspec": {
   "display_name": "Python 3",
   "language": "python",
   "name": "python3"
  },
  "language_info": {
   "codemirror_mode": {
    "name": "ipython",
    "version": 3
   },
   "file_extension": ".py",
   "mimetype": "text/x-python",
   "name": "python",
   "nbconvert_exporter": "python",
   "pygments_lexer": "ipython3",
   "version": "3.7.4"
  }
 },
 "nbformat": 4,
 "nbformat_minor": 2
}
